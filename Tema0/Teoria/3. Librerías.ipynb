{
 "cells": [
  {
   "cell_type": "markdown",
   "id": "e57ea8a3",
   "metadata": {},
   "source": [
    "# Librerías en Python\n",
    "\n",
    "[![Abrir en Colab](https://colab.research.google.com/assets/colab-badge.svg)](https://colab.research.google.com/github/IraitzTB/DS4B2B/blob/main/M0%20-%20Fundamentos%20de%20Python/3.%20Librerías.ipynb)\n",
    "\n",
    "Las librerías (o módulos) en Python son colecciones de código reutilizable que nos permiten acceder a funcionalidades adicionales sin tener que escribirlas desde cero. Python tiene dos tipos principales de librerías:\n",
    "\n",
    "1. **Librerías estándar**: Vienen incluidas con Python y están disponibles inmediatamente (como `math`, `random`, `datetime`, etc.)\n",
    "2. **Librerías externas**: Necesitan ser instaladas usando un gestor de paquetes como `pip`.\n",
    "\n",
    "Aunque cualquier script en el entorno (ficheros con código python acabados en _.py_) pueden importarse para así, centralizar funciones o recursos a reutilizar en el entorno."
   ]
  },
  {
   "cell_type": "code",
   "execution_count": 1,
   "id": "7835c325",
   "metadata": {},
   "outputs": [
    {
     "name": "stdout",
     "output_type": "stream",
     "text": [
      "Writing mi_script.py\n"
     ]
    }
   ],
   "source": [
    "%%writefile mi_script.py\n",
    "\n",
    "def saluda():\n",
    "\n",
    "    print(\"Hola desde un fichero\")"
   ]
  },
  {
   "cell_type": "code",
   "execution_count": 2,
   "id": "d761e2f8",
   "metadata": {},
   "outputs": [
    {
     "name": "stdout",
     "output_type": "stream",
     "text": [
      "Hola desde un fichero\n"
     ]
    }
   ],
   "source": [
    "from mi_script import saluda\n",
    "\n",
    "saluda()"
   ]
  },
  {
   "cell_type": "markdown",
   "id": "24fe1881",
   "metadata": {},
   "source": [
    "> **NOTA**\n",
    ">\n",
    "> Veréis que se crean ficheros _.pyc_ bajo una carpeta __pycache__. Es una carpeta donde Python guarda archivos compilados de los módulos importados para acelerar futuras ejecuciones."
   ]
  },
  {
   "cell_type": "markdown",
   "id": "9f07a90b",
   "metadata": {},
   "source": [
    "\n",
    "## Importación de librerías estándar\n",
    "Veamos primero cómo importar y usar librerías que ya vienen con Python."
   ]
  },
  {
   "cell_type": "code",
   "execution_count": 9,
   "id": "1e7aff06",
   "metadata": {},
   "outputs": [
    {
     "name": "stdout",
     "output_type": "stream",
     "text": [
      "El valor de PI es: 3.141592653589793\n",
      "La raíz cuadrada de 16 es: 4.0\n",
      "El seno de 30 grados es: 0.49999999999999994 Hola, 3.141592653589793 \n"
     ]
    }
   ],
   "source": [
    "# Importamos la librería math\n",
    "import math\n",
    "\n",
    "# Usando algunas funciones de math\n",
    "print(f\"El valor de PI es: {math.pi}\")\n",
    "print(f\"La raíz cuadrada de 16 es: {math.sqrt(16)}\")\n",
    "print(f\"El seno de 30 grados es: {math.sin(math.radians(30))}\" + f\" Hola, {math.pi} \")"
   ]
  },
  {
   "cell_type": "code",
   "execution_count": 8,
   "id": "4e4332c1",
   "metadata": {},
   "outputs": [
    {
     "name": "stdout",
     "output_type": "stream",
     "text": [
      "El factorial de 5 es: 120\n",
      "2 elevado a 3 es: 8.0\n"
     ]
    }
   ],
   "source": [
    "# También podemos importar funciones específicas\n",
    "from math import factorial, pow\n",
    "print(f\"El factorial de 5 es: {factorial(5)}\")\n",
    "print(f\"2 elevado a 3 es: {pow(2, 3)}\")"
   ]
  },
  {
   "cell_type": "code",
   "execution_count": 7,
   "id": "cbaad49a",
   "metadata": {},
   "outputs": [
    {
     "name": "stdout",
     "output_type": "stream",
     "text": [
      "El coseno de 60 grados es: 0.5000000000000001\n"
     ]
    }
   ],
   "source": [
    "# O importar todo con un alias\n",
    "import math as m\n",
    "print(f\"El coseno de 60 grados es: {m.cos(m.radians(60))}\")"
   ]
  },
  {
   "cell_type": "markdown",
   "id": "c35b0e1b",
   "metadata": {},
   "source": [
    "### Formas de importar módulos\n",
    "\n",
    "En Python, tenemos diferentes formas de importar módulos:\n",
    "\n",
    "1. `import módulo`: Importa todo el módulo y debemos usar el nombre del módulo como prefijo\n",
    "2. `from módulo import función`: Importa funciones específicas que podemos usar directamente\n",
    "3. `import módulo as alias`: Importa el módulo con un nombre alternativo más corto\n",
    "4. `from módulo import *`: Importa todas las funciones (no recomendado por claridad del código)"
   ]
  },
  {
   "cell_type": "markdown",
   "id": "5c4b381a",
   "metadata": {},
   "source": [
    "#### Ejemplo con la librería random\n",
    "\n",
    "La librería `random` es otra librería estándar muy útil que nos permite generar números aleatorios y realizar selecciones aleatorias. Veamos algunos ejemplos:"
   ]
  },
  {
   "cell_type": "code",
   "execution_count": 10,
   "id": "efb5769e",
   "metadata": {},
   "outputs": [
    {
     "name": "stdout",
     "output_type": "stream",
     "text": [
      "Número aleatorio entre 0 y 1: 0.41688665689056614\n",
      "Número entero entre 1 y 10: 5\n",
      "Fruta aleatoria: manzana\n",
      "Lista mezclada: [7, 5, 9, 8, 2, 6, 1, 10, 4, 3]\n",
      "3 frutas aleatorias diferentes: ['naranja', 'plátano', 'manzana']\n"
     ]
    }
   ],
   "source": [
    "import random\n",
    "\n",
    "# Generar un número aleatorio entre 0 y 1\n",
    "print(\"Número aleatorio entre 0 y 1:\", random.random())\n",
    "\n",
    "# Generar un número entero aleatorio en un rango\n",
    "print(\"Número entero entre 1 y 10:\", random.randint(1, 10))\n",
    "\n",
    "# Seleccionar un elemento aleatorio de una lista\n",
    "frutas = ['manzana', 'naranja', 'plátano', 'pera', 'uva']\n",
    "print(\"Fruta aleatoria:\", random.choice(frutas))\n",
    "\n",
    "# Mezclar una lista\n",
    "numeros = list(range(1, 11))  # Lista del 1 al 10\n",
    "random.shuffle(numeros)\n",
    "print(\"Lista mezclada:\", numeros)\n",
    "\n",
    "# Seleccionar múltiples elementos únicos\n",
    "print(\"3 frutas aleatorias diferentes:\", random.sample(frutas, 3))"
   ]
  },
  {
   "cell_type": "markdown",
   "id": "e6dfec27",
   "metadata": {},
   "source": [
    "## Instalación y uso de librerías externas\n",
    "\n",
    "Para instalar librerías externas, usamos pip (el gestor de paquetes de Python). Algunos comandos básicos son:\n",
    "\n",
    "```bash\n",
    "pip install nombre_libreria        # Instalar una librería\n",
    "pip list                          # Ver librerías instaladas\n",
    "pip install --upgrade nombre_libreria  # Actualizar una librería\n",
    "```\n",
    "\n",
    "Veamos un ejemplo con una librería muy popular: `numpy` para cálculos numéricos. Esto nos obliga a instalar la librería usando un terminal o precediendo un comando con el carácter `!` para que Jupyter interprete que es un comando a ejecutar en la shell."
   ]
  },
  {
   "cell_type": "code",
   "execution_count": 7,
   "id": "67193055",
   "metadata": {},
   "outputs": [],
   "source": [
    "# !pip install numpy"
   ]
  },
  {
   "cell_type": "code",
   "execution_count": 8,
   "id": "2d7a10d0",
   "metadata": {},
   "outputs": [
    {
     "name": "stdout",
     "output_type": "stream",
     "text": [
      "Array creado: [1 2 3 4 5]\n",
      "Media del array: 3.0\n",
      "Suma de elementos: 15\n",
      "Array al cuadrado: [ 1  4  9 16 25]\n",
      "\n",
      "Matriz 2x3:\n",
      " [[1 2 3]\n",
      " [4 5 6]]\n",
      "Forma de la matriz: (2, 3)\n"
     ]
    }
   ],
   "source": [
    "import numpy as np\n",
    "\n",
    "# Crear un array\n",
    "array = np.array([1, 2, 3, 4, 5])\n",
    "print(\"Array creado:\", array)\n",
    "\n",
    "# Operaciones básicas\n",
    "print(\"Media del array:\", np.mean(array))\n",
    "print(\"Suma de elementos:\", np.sum(array))\n",
    "print(\"Array al cuadrado:\", array ** 2)\n",
    "\n",
    "# Crear una matriz 2x3\n",
    "matriz = np.array([[1, 2, 3],\n",
    "                  [4, 5, 6]])\n",
    "print(\"\\nMatriz 2x3:\\n\", matriz)\n",
    "print(\"Forma de la matriz:\", matriz.shape)"
   ]
  },
  {
   "cell_type": "markdown",
   "id": "77423862",
   "metadata": {},
   "source": [
    "Veremos más en detalle esta librería en adelante ya que es muy utilizada en entornos productivos."
   ]
  },
  {
   "cell_type": "markdown",
   "id": "3a74a804",
   "metadata": {},
   "source": [
    "> **NOTA**\n",
    ">\n",
    ">Cuando realizamos una instalación `pip install` la máquina que la ejecuta se debe conectar a un servidor donde el código esté hospedado, siendo la más habitual https://pypi.org/"
   ]
  },
  {
   "cell_type": "markdown",
   "id": "83c57633",
   "metadata": {},
   "source": [
    "### Gestión de dependencias\n",
    "\n",
    "De cara a que un código sea reproducible es necesario listar cuestiones como la versión de Python con la que podemos trabajar o las librerías y sus versiones con las que el código a resultado de forma satisfactoria.\n",
    "\n",
    "Esto implica disponer de ficheros _requirements.txt_ o _pyproject.toml_ que nos indiquen qué librerías son necesarias a la para reproducir el ejercicio. Siguiendo los recomendaciones de mejoras como la [PEP 621](https://peps.python.org/pep-0621/) han aparecido gestores de paquetes que facilitan esta tarea:\n",
    "\n",
    "* [Poetry](https://python-poetry.org/) muy establecido pero orientado al desarrollo de aplicaciones\n",
    "* [PDM](https://pdm-project.org/en/latest/) algo más centrado en tareas habituales del mundo de la ciencia de datos\n",
    "* [UV](https://docs.astral.sh/uv/) el más reciente y rápido, aunque aún requiere alguna mejora\n"
   ]
  }
 ],
 "metadata": {
  "kernelspec": {
   "display_name": "Python 3",
   "language": "python",
   "name": "python3"
  },
  "language_info": {
   "codemirror_mode": {
    "name": "ipython",
    "version": 3
   },
   "file_extension": ".py",
   "mimetype": "text/x-python",
   "name": "python",
   "nbconvert_exporter": "python",
   "pygments_lexer": "ipython3",
   "version": "3.13.7"
  }
 },
 "nbformat": 4,
 "nbformat_minor": 5
}
