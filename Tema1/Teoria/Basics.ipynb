{
 "cells": [
  {
   "cell_type": "markdown",
   "id": "e192e4c6",
   "metadata": {
    "id": "e192e4c6"
   },
   "source": [
    "Para iniciarnos en Python podemos abrir de manera sencilla este notebook en un entorno colaborativo online. Esto nos permitirá hacer nuestras primeras pruebas sin necesidad de hacer instalaciones adicionales.\n",
    "\n",
    "[![Abrir en Colab](https://colab.research.google.com/assets/colab-badge.svg)](https://colab.research.google.com/github/IraitzTB/DS4B2B/blob/main/M0%20-%20Fundamentos%20de%20Python/1.%20Inici%C3%A1ndonos%20con%20Python.ipynb)\n",
    "\n",
    "Este tipo de fichero `.ipynb` (acrónimo de IPython notebook) nos permite alternar código junto con celdas de texto. Menos común en el ámbito del desarrollo, en el mundo de la ciencia de datos solemos combinar explicaciones con celdas de código que ejecutan lo que pretendemos validar o visualizad."
   ]
  },
  {
   "cell_type": "code",
   "execution_count": 2,
   "id": "825d29bb",
   "metadata": {
    "id": "825d29bb",
    "outputId": "4d185359-4309-4665-d043-55505a9f0bda"
   },
   "outputs": [
    {
     "name": "stdout",
     "output_type": "stream",
     "text": [
      "Python 3.13.7\n"
     ]
    }
   ],
   "source": [
    "!python --version"
   ]
  },
  {
   "cell_type": "markdown",
   "id": "d3f298ef",
   "metadata": {
    "id": "d3f298ef"
   },
   "source": [
    "[Python](https://devguide.python.org/versions/) es un lenguaje de programación de alto nivel creado por Guido van Rossum y lanzado por primera vez en 1991. Se caracteriza por su sintaxis sencilla y legible, lo que facilita el aprendizaje y la escritura de código. A diferencia de otros lenguajes como C++ o Java, Python prioriza la claridad y la simplicidad, permitiendo a los desarrolladores centrarse en la resolución de problemas en lugar de en detalles complejos del lenguaje.\n",
    "\n",
    "Entre sus características principales destacan:\n",
    "\n",
    "- **Sintaxis clara y concisa**: facilita la lectura y el mantenimiento del código.\n",
    "- **Multiparadigma**: soporta programación orientada a objetos, imperativa y, en menor medida, funcional.\n",
    "- **Gran comunidad y ecosistema**: dispone de una amplia variedad de librerías y frameworks para ciencia de datos, desarrollo web, automatización, inteligencia artificial, entre otros.\n",
    "- **Portabilidad**: es multiplataforma, lo que permite ejecutar programas en diferentes sistemas operativos sin apenas modificaciones.\n",
    "- **Interpretado**: no requiere compilación previa, lo que agiliza el desarrollo y la prueba de código.\n",
    "\n",
    "Gracias a estas ventajas, Python se ha convertido en uno de los lenguajes más populares tanto en el ámbito académico como profesional.\n",
    "\n",
    "Veremos que no es un lenguaje que de programas rápidos, pero existen formas de emplear Python como interfaz sencilla y que este se comunique con códigos de bajo nivel que nos den un mejor rendimiento."
   ]
  },
  {
   "cell_type": "markdown",
   "id": "2c83c09a",
   "metadata": {
    "id": "2c83c09a"
   },
   "source": [
    "# 1. Variables y Tipos de Datos\n",
    "\n",
    "En Python, las variables son contenedores para almacenar datos. A diferencia de otros lenguajes, no necesitas declarar el tipo de variable explícitamente - Python lo infiere automáticamente.\n",
    "\n",
    "Los tipos de datos básicos en Python incluyen:\n",
    "- Números (int, float)\n",
    "- Cadenas de texto (str)\n",
    "- Booleanos (bool)\n",
    "- Listas\n",
    "- Tuplas\n",
    "- Diccionarios\n",
    "\n",
    "Veamos algunos ejemplos:"
   ]
  },
  {
   "cell_type": "code",
   "execution_count": 31,
   "id": "48d365c4",
   "metadata": {
    "id": "48d365c4"
   },
   "outputs": [],
   "source": [
    "# Números\n",
    "edad = 25               # Entero\n",
    "altura = 1.75           # Float"
   ]
  },
  {
   "cell_type": "code",
   "execution_count": 32,
   "id": "a5072abb",
   "metadata": {
    "id": "a5072abb"
   },
   "outputs": [],
   "source": [
    "# Strings (cadenas de texto)\n",
    "nombre = \"Ana\"\n",
    "apellido = 'García'      # Puedes usar comillas simples o dobles"
   ]
  },
  {
   "cell_type": "code",
   "execution_count": 33,
   "id": "2ec7338d",
   "metadata": {
    "id": "2ec7338d"
   },
   "outputs": [],
   "source": [
    "# Booleanos\n",
    "es_estudiante = True\n",
    "tiene_mascota = False"
   ]
  },
  {
   "cell_type": "code",
   "execution_count": 34,
   "id": "ad25b081",
   "metadata": {
    "id": "ad25b081"
   },
   "outputs": [],
   "source": [
    "# Listas (pueden contener diferentes tipos de datos y son mutables)\n",
    "numeros = [1, 2, 3, 4, 5]\n",
    "datos_mixtos = [1, \"hola\", True, 3.14]"
   ]
  },
  {
   "cell_type": "code",
   "execution_count": 35,
   "id": "5bca3dfa",
   "metadata": {
    "id": "5bca3dfa"
   },
   "outputs": [],
   "source": [
    "# Tuplas (inmutables)\n",
    "coordenadas = (40.4168, -3.7038)"
   ]
  },
  {
   "cell_type": "code",
   "execution_count": 36,
   "id": "cbfec197",
   "metadata": {
    "id": "cbfec197"
   },
   "outputs": [],
   "source": [
    "# Diccionarios (pares clave-valor)\n",
    "persona = {\n",
    "    \"nombre\": \"Ana\",\n",
    "    \"edad\": 25,\n",
    "    \"ciudad\": \"Madrid\"\n",
    "}"
   ]
  },
  {
   "cell_type": "code",
   "execution_count": 40,
   "id": "9dfab69d",
   "metadata": {
    "id": "9dfab69d",
    "outputId": "26373383-acbb-438c-b3fd-e19ac6aaa617"
   },
   "outputs": [
    {
     "name": "stdout",
     "output_type": "stream",
     "text": [
      "Tipo de 'edad': 25\n",
      "Tipo de 'nombre': Ana\n",
      "Tipo de 'numeros': <class 'list'>\n",
      "Tipo de 'coordenadas': <class 'tuple'>\n",
      "Tipo de 'persona': {'nombre': 'Ana', 'edad': 25, 'ciudad': 'Madrid'}\n"
     ]
    }
   ],
   "source": [
    "# Mostramos algunos ejemplos\n",
    "print(f\"Tipo de 'edad':\", edad)\n",
    "print(f\"Tipo de 'nombre':\", nombre)\n",
    "print(f\"Tipo de 'numeros':\", type(numeros))\n",
    "print(f\"Tipo de 'coordenadas':\", type(coordenadas))\n",
    "print(f\"Tipo de 'persona':\", persona)"
   ]
  },
  {
   "cell_type": "code",
   "execution_count": null,
   "id": "135600ca",
   "metadata": {},
   "outputs": [],
   "source": []
  }
 ],
 "metadata": {
  "colab": {
   "provenance": []
  },
  "kernelspec": {
   "display_name": "Python 3",
   "language": "python",
   "name": "python3"
  },
  "language_info": {
   "codemirror_mode": {
    "name": "ipython",
    "version": 3
   },
   "file_extension": ".py",
   "mimetype": "text/x-python",
   "name": "python",
   "nbconvert_exporter": "python",
   "pygments_lexer": "ipython3",
   "version": "3.13.7"
  }
 },
 "nbformat": 4,
 "nbformat_minor": 5
}
