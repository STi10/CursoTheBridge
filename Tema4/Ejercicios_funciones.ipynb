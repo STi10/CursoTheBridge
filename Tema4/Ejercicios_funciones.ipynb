{
 "cells": [
  {
   "cell_type": "markdown",
   "metadata": {},
   "source": [
    "![imagen](./img/ejercicios.png)"
   ]
  },
  {
   "cell_type": "markdown",
   "metadata": {},
   "source": [
    "# Ejercicios funciones\n",
    "## Ejercicio 1\n",
    "Escribe una función que convierta números del 1 al 7 en nombres de los dias de la semana. La función constará de un único argumento numérico y una salida de tipo string. Si no es un número del 1 al 7 deberá devolver \"Día erróneo\"\n"
   ]
  },
  {
   "cell_type": "code",
   "execution_count": 16,
   "metadata": {},
   "outputs": [
    {
     "name": "stdout",
     "output_type": "stream",
     "text": [
      "Miercoles\n",
      "Día erroneo\n"
     ]
    }
   ],
   "source": [
    "def conversorDiasSemana( dia_Int):\n",
    "    if type(dia_Int) != int or dia_Int < 1 or dia_Int > 7:\n",
    "        return \"Día erroneo\"\n",
    "    else :\n",
    "        dias_semana = {\n",
    "            1: \"Lunes\",\n",
    "            2: \"Martes\",\n",
    "            3: \"Miercoles\",\n",
    "            4: \"Jueves\",\n",
    "            5: \"Viernes\",\n",
    "            6: \"Sabado\",\n",
    "            7: \"Domingo\"\n",
    "        }\n",
    "        return dias_semana[dia_Int]\n",
    "\n",
    "\n",
    "print(conversorDiasSemana(3))\n",
    "print(conversorDiasSemana(8))"
   ]
  },
  {
   "cell_type": "markdown",
   "metadata": {},
   "source": [
    "## Ejercicio 2\n",
    "En el ejercicio 8 de flujos de control, creábamos una pirámide invertida de números desde el 5. Crea una función que replique el comportamiento de la pirámide, y utiliza un único parámetro de entrada de la función para determinar el número de filas de la pirámide."
   ]
  },
  {
   "cell_type": "code",
   "execution_count": null,
   "metadata": {},
   "outputs": [],
   "source": [
    "def creaPiramide(n_filas):\n",
    "    piramide = list(range(n_filas, 0, -1))\n",
    "\n",
    "    for i in range(1, n_filas + 1):\n",
    "        print(piramide)\n",
    "        piramide.pop(0) ##para eliminar el primer elemento de la lista tambien se puede eliminar el ultimo con .pop()\n",
    "         "
   ]
  },
  {
   "cell_type": "code",
   "execution_count": 39,
   "metadata": {},
   "outputs": [
    {
     "name": "stdout",
     "output_type": "stream",
     "text": [
      "[9, 8, 7, 6, 5, 4, 3, 2, 1]\n",
      "[8, 7, 6, 5, 4, 3, 2, 1]\n",
      "[7, 6, 5, 4, 3, 2, 1]\n",
      "[6, 5, 4, 3, 2, 1]\n",
      "[5, 4, 3, 2, 1]\n",
      "[4, 3, 2, 1]\n",
      "[3, 2, 1]\n",
      "[2, 1]\n",
      "[1]\n",
      "None\n"
     ]
    }
   ],
   "source": [
    "print(creaPiramide(9))"
   ]
  },
  {
   "cell_type": "markdown",
   "metadata": {},
   "source": [
    "## Ejercicio 3\n",
    "Escribe una función que compare dos números. La función tiene dos argumentos y hay tres salidas posibles: que sean iguales, que el primero sea  mayor que el segundo, o que el segundo sea mayor que el primero"
   ]
  },
  {
   "cell_type": "code",
   "execution_count": 31,
   "metadata": {},
   "outputs": [
    {
     "name": "stdout",
     "output_type": "stream",
     "text": [
      "El número 5 es menor que 10\n",
      "El número 10 es mayor que 5\n",
      "El número 5 es igual que 5\n"
     ]
    }
   ],
   "source": [
    "def comparadorNumeros(num1, num2):\n",
    "    if num1 > num2:\n",
    "        return f\"El número {num1} es mayor que {num2}\"\n",
    "    elif num1 < num2:\n",
    "        return f\"El número {num1} es menor que {num2}\"\n",
    "    else:\n",
    "        return f\"El número {num1} es igual que {num2}\"\n",
    "    \n",
    "print(comparadorNumeros(5, 10))\n",
    "print(comparadorNumeros(10, 5))\n",
    "print(comparadorNumeros(5, 5))"
   ]
  },
  {
   "attachments": {},
   "cell_type": "markdown",
   "metadata": {},
   "source": [
    "## Ejercicio 4\n",
    "Escribe una función que sea un contador de letras. En el primer argumento tienes que introducir un texto, y el segundo que sea una letra que contar. La función tiene que devolver un entero con el número de veces que aparece esa letra, tanto mayúscula, como minúscula"
   ]
  },
  {
   "cell_type": "code",
   "execution_count": 65,
   "metadata": {},
   "outputs": [
    {
     "name": "stdout",
     "output_type": "stream",
     "text": [
      "1\n",
      "0\n"
     ]
    }
   ],
   "source": [
    "def contadorLetras(cadena, letraABuscar):\n",
    "    contador = 0\n",
    "    for caracter in cadena:\n",
    "        if caracter.lower() == letraABuscar.lower():  # Ignorar mayúsculas/minúsculas\n",
    "            contador += 1\n",
    "    \n",
    "    return contador\n",
    "\n",
    "print(contadorLetras(\"Hola que tal\", \"h\"))\n",
    "print(contadorLetras(\"Hola que tal\", \"z\"))"
   ]
  },
  {
   "cell_type": "markdown",
   "metadata": {},
   "source": [
    "## Ejercicio 5\n",
    "Escribe una función que tenga un único argumento, un string. La salida de la función tiene que ser un diccionario con el conteo de todas las letras de ese string, siendo la clave la letra y el valor el conteo."
   ]
  },
  {
   "cell_type": "code",
   "execution_count": 67,
   "metadata": {},
   "outputs": [
    {
     "name": "stdout",
     "output_type": "stream",
     "text": [
      "{'h': 1, 'H': 1, 'o': 1, 'l': 1, 'a': 1, ' ': 1, 'm': 1, 'i': 1, 'g': 1, 's': 1}\n"
     ]
    }
   ],
   "source": [
    "def conteoletras(cadena):\n",
    "    diccionario = {}\n",
    "    for letra in cadena:\n",
    "            if letra.lower in diccionario:\n",
    "                diccionario[letra] += 1\n",
    "            else:\n",
    "                diccionario[letra] = 1\n",
    "                \n",
    "    \n",
    "    return diccionario\n",
    "\n",
    "print(conteoletras(\"hHola amigos\"))"
   ]
  },
  {
   "cell_type": "markdown",
   "metadata": {},
   "source": [
    "## Ejercicio 6\n",
    "Escribir una función que añada o elimine elementos en una lista. La función necesita los siguientes argumentos:\n",
    "* lista: la lista donde se añadirán o eliminarán los elementos\n",
    "* comando: \"add\" o \"remove\"\n",
    "* elemento: Por defecto es None.\n",
    "\n",
    "Tendrá como salida la lista"
   ]
  },
  {
   "cell_type": "code",
   "execution_count": null,
   "metadata": {},
   "outputs": [
    {
     "name": "stdout",
     "output_type": "stream",
     "text": [
      "[1, 2, 3, 4]\n",
      "[1, 3, 4]\n"
     ]
    }
   ],
   "source": [
    "def gestorLista(lista, funcion, elemento=None):\n",
    "    if funcion.lower() != \"add\" and funcion.lower() != \"remove\":\n",
    "        return \"Funcion incorrecta\"\n",
    "    else:\n",
    "\n",
    "        (lambda: (lista.remove(elemento) if elemento in lista else \"Elemento no encontrado en la lista\") if funcion == \"remove\" else lista.append(elemento))()\n",
    "        # if funcion.lower() == \"add\":\n",
    "        #     lista.append(elemento)\n",
    "        # elif funcion.lower() == \"remove\":\n",
    "        #     try:\n",
    "        #         lista.remove(elemento)\n",
    "        #     except ValueError:\n",
    "        #         return \"Elemento no encontrado en la lista\"\n",
    "    return lista\n",
    "print(gestorLista([1, 2, 3], \"add\", 4))        # Salida: [1, 2, 3, 4]\n",
    "print(gestorLista([1, 2, 3, 4], \"remove\", 2))  # Salida: [1, 3, 4]\n"
   ]
  },
  {
   "cell_type": "markdown",
   "metadata": {},
   "source": [
    "## Ejercicio 7\n",
    "Crea una función que reciba un número arbitrario de palabras, y devuelva una frase completa, separando las palabras con espacios."
   ]
  },
  {
   "cell_type": "code",
   "execution_count": 50,
   "metadata": {},
   "outputs": [
    {
     "name": "stdout",
     "output_type": "stream",
     "text": [
      "Hola mundo desde Python\n"
     ]
    }
   ],
   "source": [
    "def hacerFrase(lista_palabras):\n",
    "    return ' '.join(lista_palabras)\n",
    "\n",
    "print(hacerFrase([\"Hola\", \"mundo\", \"desde\", \"Python\"]))  # Salida: \"Hola mundo desde Python\""
   ]
  },
  {
   "cell_type": "markdown",
   "metadata": {},
   "source": [
    "## Ejercicio 8\n",
    "Escribe un programa que obtenga el enésimo número de la [serie de Fibonacci](https://es.wikipedia.org/wiki/Sucesi%C3%B3n_de_Fibonacci). Tienes que crear una función recursiva con un único argumento.\n",
    "\n",
    "```Python\n",
    "fibonacci(2) = 1\n",
    "fibonacci(4) = 3\n",
    "fibonacci(5) = 5\n",
    "fibonacci(8) = 21\n",
    "```"
   ]
  },
  {
   "cell_type": "markdown",
   "metadata": {},
   "source": [
    "fibonacci(n) = fibonacci(n-1) + fibonacci(n-2)"
   ]
  },
  {
   "cell_type": "code",
   "execution_count": 53,
   "metadata": {},
   "outputs": [
    {
     "name": "stdout",
     "output_type": "stream",
     "text": [
      "89\n"
     ]
    }
   ],
   "source": [
    "def fibonacci(n) :\n",
    "        if n == 0:\n",
    "            return 0\n",
    "        elif n == 1:\n",
    "            return 1\n",
    "        else : \n",
    "            return fibonacci(n-1) + fibonacci(n-2)\n",
    "print(fibonacci(11))"
   ]
  },
  {
   "cell_type": "code",
   "execution_count": null,
   "metadata": {},
   "outputs": [],
   "source": [
    "# fibonacci(3) = fibonacci(2) + fibonacci(1) = fibonacci(1) + fibonacci(0) + fibonacci(1) = 1 + 0 + 1 = 2\n",
    "# fibonacci(4) = fibonacci(3) + fibonacci(2) = 2 + fibonacci(1) + fibonacci(0) = 2 + 1 + 0 = 3"
   ]
  },
  {
   "attachments": {},
   "cell_type": "markdown",
   "metadata": {},
   "source": [
    "## Ejercicio 9\n",
    "Define en una única celda las siguientes funciones:\n",
    "* Función que calcule el área de un cuadrado\n",
    "* Función que calcule el área de un triángulo\n",
    "* Función que calcule el área de un círculo\n",
    "\n",
    "En otra celda, calcular el area de:\n",
    "* Dos círculos de radio 10 + un triángulo de base 3 y altura 7\n",
    "* Un cuadrado de lado = 10 + 3 círculos (uno de radio = 4 y los otros dos de radio = 6) + 5 triángulos de base = 2 + altura = 4"
   ]
  },
  {
   "cell_type": "code",
   "execution_count": 61,
   "metadata": {},
   "outputs": [
    {
     "name": "stdout",
     "output_type": "stream",
     "text": [
      "16.0\n",
      "8.0\n",
      "78.53981633974483\n"
     ]
    }
   ],
   "source": [
    "import math\n",
    "def calculoAreas(operacion) :\n",
    "    match operacion.lower():\n",
    "        case \"cuadrado\":\n",
    "            lado = float(input(\"Introduce el lado del cuadrado: \"))\n",
    "            area = lado * lado\n",
    "            return area\n",
    "        case \"triangulo\":\n",
    "            base = float(input(\"Introduce la base del triángulo: \"))    \n",
    "            altura = float(input(\"Introduce la altura del triángulo: \"))\n",
    "            area = (base * altura) / 2\n",
    "            return area\n",
    "        case \"circulo\":\n",
    "            radio = float(input(\"Introduce el radio del círculo: \"))\n",
    "            area = math.pi * radio * radio\n",
    "            return area\n",
    "        case _:\n",
    "            return \"Operación no válida. Por favor, elige 'cuadrado', 'triangulo' o 'circulo'.\"\n",
    "print(calculoAreas(\"cuadrado\"))\n",
    "print(calculoAreas(\"triangulo\"))\n",
    "print(calculoAreas(\"circulo\"))  "
   ]
  },
  {
   "cell_type": "code",
   "execution_count": 63,
   "metadata": {},
   "outputs": [
    {
     "ename": "ValueError",
     "evalue": "could not convert string to float: ''",
     "output_type": "error",
     "traceback": [
      "\u001b[31m---------------------------------------------------------------------------\u001b[39m",
      "\u001b[31mValueError\u001b[39m                                Traceback (most recent call last)",
      "\u001b[36mCell\u001b[39m\u001b[36m \u001b[39m\u001b[32mIn[63]\u001b[39m\u001b[32m, line 2\u001b[39m\n\u001b[32m      1\u001b[39m \u001b[38;5;66;03m# Calcula el área de dos círculos y un triángulo y suma los resultados\u001b[39;00m\n\u001b[32m----> \u001b[39m\u001b[32m2\u001b[39m area_circulo_1 = \u001b[43mcalculoAreas\u001b[49m\u001b[43m(\u001b[49m\u001b[33;43m\"\u001b[39;49m\u001b[33;43mcirculo\u001b[39;49m\u001b[33;43m\"\u001b[39;49m\u001b[43m)\u001b[49m\n\u001b[32m      3\u001b[39m area_circulo_2 = calculoAreas(\u001b[33m\"\u001b[39m\u001b[33mcirculo\u001b[39m\u001b[33m\"\u001b[39m)\n\u001b[32m      4\u001b[39m area_triangulo = calculoAreas(\u001b[33m\"\u001b[39m\u001b[33mtriangulo\u001b[39m\u001b[33m\"\u001b[39m)\n",
      "\u001b[36mCell\u001b[39m\u001b[36m \u001b[39m\u001b[32mIn[61]\u001b[39m\u001b[32m, line 14\u001b[39m, in \u001b[36mcalculoAreas\u001b[39m\u001b[34m(operacion)\u001b[39m\n\u001b[32m     12\u001b[39m     \u001b[38;5;28;01mreturn\u001b[39;00m area\n\u001b[32m     13\u001b[39m \u001b[38;5;28;01mcase\u001b[39;00m \u001b[33m\"\u001b[39m\u001b[33mcirculo\u001b[39m\u001b[33m\"\u001b[39m:\n\u001b[32m---> \u001b[39m\u001b[32m14\u001b[39m     radio = \u001b[38;5;28;43mfloat\u001b[39;49m\u001b[43m(\u001b[49m\u001b[38;5;28;43minput\u001b[39;49m\u001b[43m(\u001b[49m\u001b[33;43m\"\u001b[39;49m\u001b[33;43mIntroduce el radio del círculo: \u001b[39;49m\u001b[33;43m\"\u001b[39;49m\u001b[43m)\u001b[49m\u001b[43m)\u001b[49m\n\u001b[32m     15\u001b[39m     area = math.pi * radio * radio\n\u001b[32m     16\u001b[39m     \u001b[38;5;28;01mreturn\u001b[39;00m area\n",
      "\u001b[31mValueError\u001b[39m: could not convert string to float: ''"
     ]
    }
   ],
   "source": [
    "# Calcula el área de dos círculos y un triángulo y suma los resultados\n",
    "area_circulo_1 = calculoAreas(\"circulo\")\n",
    "area_circulo_2 = calculoAreas(\"circulo\")\n",
    "area_triangulo = calculoAreas(\"triangulo\")\n",
    "print(area_circulo_1 + area_circulo_2 + area_triangulo)\n",
    "\n",
    "# Usando la función calculoAreas para calcular las áreas y sumarlas\n",
    "\n",
    "# Área de un cuadrado de lado 10\n",
    "area_cuadrado = calculoAreas(\"cuadrado\")  # Ingresa 10 cuando lo solicite\n",
    "\n",
    "# Área de un círculo de radio 4\n",
    "area_circulo_r4 = calculoAreas(\"circulo\")  # Ingresa 4 cuando lo solicite\n",
    "\n",
    "# Área de dos círculos de radio 6\n",
    "area_circulo_r6_1 = calculoAreas(\"circulo\")  # Ingresa 6 cuando lo solicite\n",
    "area_circulo_r6_2 = calculoAreas(\"circulo\")  # Ingresa 6 cuando lo solicite\n",
    "\n",
    "# Área de cinco triángulos de base 2 y altura 4\n",
    "area_triangulo_1 = calculoAreas(\"triangulo\")  # Ingresa base 2 y altura 4 cuando lo solicite\n",
    "area_triangulo_2 = calculoAreas(\"triangulo\")  # Ingresa base 2 y altura 4\n",
    "area_triangulo_3 = calculoAreas(\"triangulo\")  # Ingresa base 2 y altura 4\n",
    "area_triangulo_4 = calculoAreas(\"triangulo\")  # Ingresa base 2 y altura 4\n",
    "area_triangulo_5 = calculoAreas(\"triangulo\")  # Ingresa base 2 y altura 4\n",
    "\n",
    "# Suma total\n",
    "area_total = (\n",
    "    area_cuadrado +\n",
    "    area_circulo_r4 +\n",
    "    area_circulo_r6_1 +\n",
    "    area_circulo_r6_2 +\n",
    "    area_triangulo_1 +\n",
    "    area_triangulo_2 +\n",
    "    area_triangulo_3 +\n",
    "    area_triangulo_4 +\n",
    "    area_triangulo_5\n",
    ")\n",
    "print(area_total)\n",
    "\n"
   ]
  },
  {
   "cell_type": "markdown",
   "metadata": {},
   "source": [
    "## Ejercicio 10\n",
    "\n",
    "Guarda las funciones de estos ejercicios en un fichero llamado `funciones.py` e importalas desde este jupyter notebook para probar que puedes hacer uso de ellas.\n",
    "\n",
    "Para hacerlo, sigue estos pasos:\n",
    "\n",
    "1. Copia todas las funciones que has creado en los ejercicios y pégalas en un archivo nuevo llamado `funciones.py`.\n",
    "2. Guarda el archivo en el mismo directorio donde está tu Jupyter Notebook.\n",
    "3. En una celda de tu notebook, importa las funciones usando:\n",
    "    from funciones import *\n"
   ]
  },
  {
   "cell_type": "code",
   "execution_count": null,
   "metadata": {},
   "outputs": [],
   "source": []
  }
 ],
 "metadata": {
  "kernelspec": {
   "display_name": "Python 3",
   "language": "python",
   "name": "python3"
  },
  "language_info": {
   "codemirror_mode": {
    "name": "ipython",
    "version": 3
   },
   "file_extension": ".py",
   "mimetype": "text/x-python",
   "name": "python",
   "nbconvert_exporter": "python",
   "pygments_lexer": "ipython3",
   "version": "3.13.7"
  }
 },
 "nbformat": 4,
 "nbformat_minor": 4
}
