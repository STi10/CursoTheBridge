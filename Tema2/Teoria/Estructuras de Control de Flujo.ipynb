{
 "cells": [
  {
   "cell_type": "markdown",
   "id": "7de8fef4",
   "metadata": {
    "id": "7de8fef4"
   },
   "source": [
    "# Estructuras de Control de Flujo\n",
    "\n",
    "Python proporciona varias estructuras para controlar el flujo de ejecución de nuestro código:\n",
    "\n",
    "1. **Condicionales** (`if`, `elif`, `else`): Permiten ejecutar código basado en condiciones\n",
    "2. **Bucles**:\n",
    "   - `for`: Para iterar sobre secuencias (listas, tuplas, etc.)\n",
    "   - `while`: Para repetir código mientras una condición sea verdadera\n",
    "3. **Control de bucles**:\n",
    "   - `break`: Para salir de un bucle\n",
    "   - `continue`: Para saltar a la siguiente iteración\n",
    "   - `pass`: Para cuando necesitamos una declaración pero no queremos hacer nada\n",
    "\n",
    "Veamos ejemplos de cada uno:"
   ]
  },
  {
   "cell_type": "code",
   "execution_count": null,
   "id": "577a5f43",
   "metadata": {
    "id": "577a5f43",
    "outputId": "6c7aa40c-aac6-4153-e580-8254c58dd30e"
   },
   "outputs": [
    {
     "name": "stdout",
     "output_type": "stream",
     "text": [
      "Acabas de cumplir la mayoría de edad\n"
     ]
    }
   ],
   "source": [
    "# Ejemplo de condicionales\n",
    "edad = 18\n",
    "if edad < 18:\n",
    "    print(\"Eres menor de edad\")\n",
    "elif edad == 18:\n",
    "    print(\"Acabas de cumplir la mayoría de edad\")\n",
    "else:\n",
    "    print(\"Eres mayor de edad\")"
   ]
  },
  {
   "cell_type": "code",
   "execution_count": null,
   "id": "8ba6c2be",
   "metadata": {
    "id": "8ba6c2be",
    "outputId": "07ff0a31-db0f-4967-8675-ff388d037c90"
   },
   "outputs": [
    {
     "name": "stdout",
     "output_type": "stream",
     "text": [
      "\n",
      "Iterando sobre una lista:\n",
      "Me gusta la manzana\n",
      "Me gusta la plátano\n",
      "Me gusta la naranja\n"
     ]
    }
   ],
   "source": [
    "# Ejemplo de bucle for con una lista\n",
    "print(\"\\nIterando sobre una lista:\")\n",
    "frutas = [\"manzana\", \"plátano\", \"naranja\"]\n",
    "for fruta in frutas:\n",
    "    print(f\"Me gusta la {fruta}\")"
   ]
  },
  {
   "cell_type": "markdown",
   "id": "3603cbda",
   "metadata": {
    "id": "3603cbda"
   },
   "source": [
    "A diferencia del for, que itera para cada elemento, los bucles while requieren de una condición a cumplir para salir del bucle."
   ]
  },
  {
   "cell_type": "code",
   "execution_count": null,
   "id": "3b3995fa",
   "metadata": {
    "id": "3b3995fa",
    "outputId": "3917b183-be92-4a51-97c9-9a1c07d0e623"
   },
   "outputs": [
    {
     "name": "stdout",
     "output_type": "stream",
     "text": [
      "\n",
      "Bucle while:\n",
      "Contador: 0\n",
      "Contador: 1\n",
      "Contador: 2\n"
     ]
    }
   ],
   "source": [
    "# Ejemplo de while\n",
    "print(\"\\nBucle while:\")\n",
    "contador = 0\n",
    "while contador < 3:\n",
    "    print(f\"Contador: {contador}\")\n",
    "    contador += 1"
   ]
  },
  {
   "cell_type": "markdown",
   "id": "1cb5ffe4",
   "metadata": {
    "id": "1cb5ffe4"
   },
   "source": [
    "Podemos alterar este flujo mediante las opciones `break` (cerrar el bucle) o `continue` saltar al siguiente ciclo de iteración."
   ]
  },
  {
   "cell_type": "code",
   "execution_count": null,
   "id": "5db09d25",
   "metadata": {
    "id": "5db09d25",
    "outputId": "58be498a-d2d7-412f-a058-1fb7ea383c88"
   },
   "outputs": [
    {
     "name": "stdout",
     "output_type": "stream",
     "text": [
      "\n",
      "Usando break:\n",
      "0\n",
      "1\n",
      "2\n",
      "3\n",
      "4\n",
      "\n",
      "Usando continue:\n",
      "0\n",
      "1\n",
      "3\n",
      "4\n"
     ]
    }
   ],
   "source": [
    "# Ejemplo de break\n",
    "print(\"\\nUsando break:\")\n",
    "for i in range(10):\n",
    "    if i == 5:\n",
    "        break\n",
    "    print(i)\n",
    "\n",
    "# Ejemplo de continue\n",
    "print(\"\\nUsando continue:\")\n",
    "for i in range(5):\n",
    "    if i == 2:\n",
    "        continue\n",
    "    print(i)"
   ]
  },
  {
   "cell_type": "code",
   "execution_count": null,
   "id": "a77f231e",
   "metadata": {
    "id": "a77f231e",
    "outputId": "aabcb8a3-93a7-4de2-bf7d-7a73e134fb0f"
   },
   "outputs": [
    {
     "name": "stdout",
     "output_type": "stream",
     "text": [
      "\n",
      "Ejemplo combinado:\n",
      "\tLa suma de pares superó 10 (suma actual: 12)\n",
      "Suma final de pares: 12\n"
     ]
    }
   ],
   "source": [
    "# Ejemplo combinando diferentes estructuras\n",
    "print(\"\\nEjemplo combinado:\")\n",
    "numeros = [1, 2, 3, 4, 5, 6, 7, 8, 9, 10]\n",
    "suma_pares = 0\n",
    "\n",
    "for numero in numeros:\n",
    "    if numero % 2 != 0:\n",
    "        continue\n",
    "    suma_pares += numero\n",
    "    if suma_pares > 10:\n",
    "        print(f\"\\tLa suma de pares superó 10 (suma actual: {suma_pares})\")\n",
    "        break\n",
    "\n",
    "print(\"Suma final de pares:\", suma_pares)\n",
    "for i in range(3):\n",
    "    print(\"Iteración final:\", i)"
   ]
  },
  {
   "cell_type": "markdown",
   "id": "e3a3ca3f",
   "metadata": {},
   "source": [
    "### For con range personalizado\n",
    "El bucle for en Python puede usar `range(start, stop, step)` donde:\n",
    "- `start`: número inicial (incluido)\n",
    "- `stop`: número final (excluido)\n",
    "- `step`: tamaño del paso entre números"
   ]
  },
  {
   "cell_type": "code",
   "execution_count": 3,
   "id": "748d34c7",
   "metadata": {},
   "outputs": [
    {
     "name": "stdout",
     "output_type": "stream",
     "text": [
      "Contar de 2 a 10 de 2 en 2:\n",
      "2\n",
      "4\n",
      "6\n",
      "8\n",
      "10\n",
      "\n",
      "Contar hacia atrás de 10 a 0 de 3 en 3:\n",
      "10\n",
      "7\n",
      "4\n",
      "1\n",
      "\n",
      "Números del 1 al 5:\n",
      "1\n",
      "2\n",
      "3\n",
      "4\n",
      "5\n"
     ]
    }
   ],
   "source": [
    "# Ejemplos de range con diferentes parámetros\n",
    "print(\"Contar de 2 a 10 de 2 en 2:\")\n",
    "for i in range(2, 11, 2):  # Comienza en 2, termina en 10, salta de 2 en 2\n",
    "    print(i)\n",
    "\n",
    "print(\"\\nContar hacia atrás de 10 a 0 de 3 en 3:\")\n",
    "for i in range(10, -1, -3):  # Comienza en 10, termina en 0, salta de 3 en 3 hacia atrás\n",
    "    print(i)\n",
    "\n",
    "print(\"\\nNúmeros del 1 al 5:\")\n",
    "for i in range(1, 6):  # Step por defecto es 1\n",
    "    print(i)\n",
    "    "
   ]
  }
 ],
 "metadata": {
  "colab": {
   "provenance": []
  },
  "kernelspec": {
   "display_name": "Python 3",
   "language": "python",
   "name": "python3"
  },
  "language_info": {
   "codemirror_mode": {
    "name": "ipython",
    "version": 3
   },
   "file_extension": ".py",
   "mimetype": "text/x-python",
   "name": "python",
   "nbconvert_exporter": "python",
   "pygments_lexer": "ipython3",
   "version": "3.13.7"
  }
 },
 "nbformat": 4,
 "nbformat_minor": 5
}
