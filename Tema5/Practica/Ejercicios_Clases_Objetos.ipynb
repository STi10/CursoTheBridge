{
 "cells": [
  {
   "cell_type": "markdown",
   "metadata": {},
   "source": [
    "![imagen](./img/ejercicios.png)\n",
    "\n",
    "# Ejercicios Clases y Objetos"
   ]
  },
  {
   "attachments": {},
   "cell_type": "markdown",
   "metadata": {},
   "source": [
    "## Ejercicio 1\n",
    "Somos una empresa que tiene varias tiendas de electrodomésticos. Necesitamos un programa para manejar las tiendas, ver las ventas que han tenido, cuántos empleados hay, etc... Para ello vamos a modelizar la tienda en una clase, que tendrá las siguientes características:\n",
    "* Nombre clase: \"Tienda\"\n",
    "* Atributos comunes:\n",
    "    * Tipo: \"Electrodomésticos\"\n",
    "    * Abierta: True\n",
    "* Atributos propios de cada tienda:\n",
    "    * Nombre - String\n",
    "    * Dirección - String\n",
    "    * Número de empleados - int\n",
    "    * Ventas últimos 3 meses - Lista de 3 numeros\n",
    "* Método para calcular las ventas de todos los meses, que devuelva un número con todas las ventas.\n",
    "* Método que calcula la media de ventas de los últimos meses, por empleado\n",
    "* Método que devuelve en un string el nombre de la tienda, junto con su dirección.\n",
    "* Método que obtiene las ventas del último mes.\n",
    "* Método para dar una proyección de las ventas en caso de haber invertido X dinero en marketing en esa tienda. Siendo X el parámetro de entrada. Si X es menor de 1000, las ventas de los ultimos 3 meses hubiesen sido de (1.2 x ventas), si es mayor o igual de 1000, las ventas hubiesen sido de (1.5 x venta). El método reescribe el atributo de ventas en los últimos 3 meses, y además devuelve las ventas con el aumento.\n",
    "\n",
    "Se pide:\n",
    "1. Implementar la clase \"Tienda\"\n",
    "2. Crear tres tiendas con datos inventados\n",
    "3. Comprueba en al menos una de ellas, todo lo implementado en la clase tienda (sus atributos, media de ventas, ventas/empleado...)\n",
    "3. Calcular las ventas del último mes de todas las tiendas. Para ello usa el bucle `for`\n",
    "4. Imprime por pantalla los nombres de las tiendas cuya dirección lleve el string \"Avenida\"\n",
    "5. Seguro que ya has hecho este apartado... Documenta la clase :)"
   ]
  },
  {
   "cell_type": "code",
   "execution_count": null,
   "metadata": {},
   "outputs": [],
   "source": []
  },
  {
   "cell_type": "code",
   "execution_count": 3,
   "metadata": {},
   "outputs": [
    {
     "name": "stdout",
     "output_type": "stream",
     "text": [
      "Electrodomésticos\n",
      "True\n"
     ]
    }
   ],
   "source": [
    "print(tienda_1.tipo)\n",
    "print(tienda_1.abierta)"
   ]
  },
  {
   "cell_type": "code",
   "execution_count": 4,
   "metadata": {},
   "outputs": [
    {
     "name": "stdout",
     "output_type": "stream",
     "text": [
      "{'nombre': 'Tienda 1', 'direccion': 'P Recoletos 10', 'n_empleados': 10, 'ventas_3m': [1000, 1500, 1100]}\n"
     ]
    }
   ],
   "source": [
    "print(tienda_1.__dict__)"
   ]
  },
  {
   "cell_type": "code",
   "execution_count": 5,
   "metadata": {},
   "outputs": [
    {
     "name": "stdout",
     "output_type": "stream",
     "text": [
      "3600\n",
      "360.0\n",
      "Tienda 1 P Recoletos 10\n",
      "1100\n",
      "[1200.0, 1800.0, 1320.0]\n"
     ]
    }
   ],
   "source": [
    "print(tienda_1.ventas_totales())\n",
    "print(tienda_1.media_ventas())\n",
    "print(tienda_1.info_tienda())\n",
    "print(tienda_1.ult_ventas())\n",
    "print(tienda_1.inv_mark(500))"
   ]
  },
  {
   "cell_type": "code",
   "execution_count": 6,
   "metadata": {},
   "outputs": [
    {
     "name": "stdout",
     "output_type": "stream",
     "text": [
      "[1200.0, 1800.0, 1320.0]\n"
     ]
    }
   ],
   "source": [
    "print(tienda_1.ventas_3m)"
   ]
  },
  {
   "cell_type": "code",
   "execution_count": 7,
   "metadata": {},
   "outputs": [],
   "source": [
    "def test_tienda(tienda):\n",
    "    print(tienda.info_tienda())\n",
    "    print(tienda.tipo)\n",
    "    print(tienda.abierta)\n",
    "    print(tienda.__dict__)\n",
    "    print(tienda.ventas_totales())\n",
    "    print(tienda.media_ventas())\n",
    "    print(\"VENTAS ÚLTIMO MES\")\n",
    "    print(tienda.ult_ventas())\n",
    "    print(tienda.inv_mark(500))\n",
    "    print(tienda.ventas_3m)"
   ]
  },
  {
   "cell_type": "code",
   "execution_count": 8,
   "metadata": {},
   "outputs": [
    {
     "name": "stdout",
     "output_type": "stream",
     "text": [
      "Tienda 1 P Recoletos 10\n",
      "Electrodomésticos\n",
      "True\n",
      "{'nombre': 'Tienda 1', 'direccion': 'P Recoletos 10', 'n_empleados': 10, 'ventas_3m': [1200.0, 1800.0, 1320.0]}\n",
      "4320.0\n",
      "432.0\n",
      "VENTAS ÚLTIMO MES\n",
      "1320.0\n",
      "[1440.0, 2160.0, 1584.0]\n",
      "[1440.0, 2160.0, 1584.0]\n",
      "----------\n",
      "Tienda 2 Avenida Recoletos 20\n",
      "Electrodomésticos\n",
      "True\n",
      "{'nombre': 'Tienda 2', 'direccion': 'Avenida Recoletos 20', 'n_empleados': 20, 'ventas_3m': [2000, 2500, 2100]}\n",
      "6600\n",
      "330.0\n",
      "VENTAS ÚLTIMO MES\n",
      "2100\n",
      "[2400.0, 3000.0, 2520.0]\n",
      "[2400.0, 3000.0, 2520.0]\n",
      "----------\n",
      "Tienda 3 P Recoletos 30\n",
      "Electrodomésticos\n",
      "True\n",
      "{'nombre': 'Tienda 3', 'direccion': 'P Recoletos 30', 'n_empleados': 30, 'ventas_3m': [3000, 3500, 3100]}\n",
      "9600\n",
      "320.0\n",
      "VENTAS ÚLTIMO MES\n",
      "3100\n",
      "[3600.0, 4200.0, 3720.0]\n",
      "[3600.0, 4200.0, 3720.0]\n",
      "----------\n"
     ]
    }
   ],
   "source": [
    "tiendas = [tienda_1, tienda_2, tienda_3]\n",
    "for tienda in tiendas:\n",
    "    test_tienda(tienda)\n",
    "    print(\"-\"*10)"
   ]
  },
  {
   "cell_type": "code",
   "execution_count": 9,
   "metadata": {},
   "outputs": [
    {
     "name": "stdout",
     "output_type": "stream",
     "text": [
      "Tienda 1 P Recoletos 10\n",
      "1584.0\n",
      "Tienda 2 Avenida Recoletos 20\n",
      "2520.0\n",
      "Tienda 3 P Recoletos 30\n",
      "3720.0\n",
      "Ventas totales de todas las tiendas el último mes 7824.0\n"
     ]
    }
   ],
   "source": [
    "total = 0\n",
    "for tienda in tiendas:\n",
    "    print(tienda.info_tienda())\n",
    "    print(tienda.ult_ventas())\n",
    "    total = total + tienda.ult_ventas()\n",
    "print(\"Ventas totales de todas las tiendas el último mes\", total)"
   ]
  },
  {
   "cell_type": "code",
   "execution_count": null,
   "metadata": {},
   "outputs": [
    {
     "name": "stdout",
     "output_type": "stream",
     "text": [
      "Tienda 2 Avenida Recoletos 20\n"
     ]
    }
   ],
   "source": []
  },
  {
   "cell_type": "markdown",
   "metadata": {},
   "source": [
    "## Ejercicio 2\n",
    "En este ejercicio vamos a implementar una clase *Perro* en Python. La clase tiene las siguientes características:\n",
    "* Cosas que sabemos seguro que tiene un perro\n",
    "    * Tiene 4 patas\n",
    "    * 2 orejas\n",
    "    * 2 ojos\n",
    "    * Una velocidad de 0. Por defecto, el perro está parado\n",
    "* Cuando se inicialice:\n",
    "    * El perro será de una determinada raza\n",
    "    * Por defecto tendrá pelo \"Marrón\", a no ser que se diga lo contrario.\n",
    "    * Por defecto no tendrá dueño, a no ser que se diga lo contrario.\n",
    "    \n",
    "* Dispondrá también de un método llamado andar, que tiene un argumento de entrada (aumento_velocidad). Este valor se le sumará a la velocidad que ya llevaba el perro.\n",
    "* Necesita otro método (parar), donde pondremos la velocidad a 0.\n",
    "* Otro método llamado \"ladrar\", que tendrá un argumento de entrada, y la salida será el siguiente string: \"GUAU!\" + el argumento de entrada.\n",
    "\n",
    "\n",
    "Se pide:\n",
    "* Implementa la clase *Perro*\n",
    "* Crea un objeto de tipo *Perro*, sin dueño\n",
    "* Comprueba que están bien todos sus atributos\n",
    "* Prueba que ande, y comprueba su velocidad\n",
    "* Páralo\n",
    "* Documenta la clase *Perro*"
   ]
  },
  {
   "cell_type": "code",
   "execution_count": null,
   "metadata": {},
   "outputs": [],
   "source": []
  },
  {
   "cell_type": "code",
   "execution_count": 12,
   "metadata": {},
   "outputs": [],
   "source": [
    "perro_1 = Perro(\"Galgo\")"
   ]
  },
  {
   "cell_type": "code",
   "execution_count": 13,
   "metadata": {},
   "outputs": [
    {
     "name": "stdout",
     "output_type": "stream",
     "text": [
      "4\n",
      "2\n",
      "2\n",
      "0\n",
      "{'raza': 'Galgo', 'pelo': 'Marrón', 'dueño': False}\n"
     ]
    }
   ],
   "source": [
    "print(perro_1.patas)\n",
    "print(perro_1.orejas)\n",
    "print(perro_1.ojos)\n",
    "print(perro_1.velocidad)\n",
    "print(perro_1.__dict__)"
   ]
  },
  {
   "cell_type": "code",
   "execution_count": 14,
   "metadata": {},
   "outputs": [
    {
     "name": "stdout",
     "output_type": "stream",
     "text": [
      "Estamos parados\n",
      "0\n",
      "Echamos a andar\n",
      "Perro andando con velocidad de 5\n",
      "5\n",
      "Echamos a correr\n",
      "Perro andando con velocidad de 10\n",
      "10\n",
      "Paramos\n",
      "Perro parado con velocidad de 0\n",
      "0\n"
     ]
    }
   ],
   "source": [
    "print(\"Estamos parados\")\n",
    "print(perro_1.velocidad)\n",
    "print(\"Echamos a andar\")\n",
    "print(perro_1.andar(5))\n",
    "print(perro_1.velocidad)\n",
    "print(\"Echamos a correr\")\n",
    "print(perro_1.andar(5))\n",
    "print(perro_1.velocidad)\n",
    "print(\"Paramos\")\n",
    "print(perro_1.parar())\n",
    "print(perro_1.velocidad)"
   ]
  },
  {
   "cell_type": "code",
   "execution_count": 15,
   "metadata": {},
   "outputs": [
    {
     "name": "stdout",
     "output_type": "stream",
     "text": [
      "GUAU! Hola mundo\n"
     ]
    }
   ],
   "source": [
    "print(perro_1.ladrar(\"Hola mundo\"))"
   ]
  }
 ],
 "metadata": {
  "kernelspec": {
   "display_name": "Python 3",
   "language": "python",
   "name": "python3"
  },
  "language_info": {
   "codemirror_mode": {
    "name": "ipython",
    "version": 3
   },
   "file_extension": ".py",
   "mimetype": "text/x-python",
   "name": "python",
   "nbconvert_exporter": "python",
   "pygments_lexer": "ipython3",
   "version": "3.11.9"
  }
 },
 "nbformat": 4,
 "nbformat_minor": 4
}
