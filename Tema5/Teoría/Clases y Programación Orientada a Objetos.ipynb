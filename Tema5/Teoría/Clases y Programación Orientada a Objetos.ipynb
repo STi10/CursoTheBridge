{
 "cells": [
  {
   "cell_type": "markdown",
   "id": "c154d00e",
   "metadata": {
    "id": "c154d00e"
   },
   "source": [
    "# Clases y Programación Orientada a Objetos (POO)\n",
    "\n",
    "---\n",
    "\n",
    "\n",
    "\n",
    "La Programación Orientada a Objetos es un paradigma de programación que organiza el código en objetos que contienen tanto datos como código. En Python, todo es un objeto, y las clases nos permiten crear nuestros propios tipos de objetos.\n",
    "\n",
    "Conceptos principales de POO:\n",
    "- **Clases**: Plantillas para crear objetos\n",
    "- **Objetos**: Instancias de una clase\n",
    "- **Atributos**: Datos/propiedades del objeto\n",
    "- **Métodos**: Funciones que pertenecen a la clase\n",
    "- **Herencia**: Capacidad de una clase de heredar atributos y métodos de otra\n",
    "- **Encapsulación**: Ocultar detalles internos y proteger datos\n",
    "\n",
    "Veamos algunos ejemplos:"
   ]
  },
  {
   "cell_type": "code",
   "execution_count": null,
   "id": "QC4RS_vNILGY",
   "metadata": {
    "id": "QC4RS_vNILGY"
   },
   "outputs": [],
   "source": []
  },
  {
   "cell_type": "code",
   "execution_count": null,
   "id": "99c5117c",
   "metadata": {
    "id": "99c5117c",
    "outputId": "1f7b48f6-7f32-4b29-dc30-4046f9bc52cb"
   },
   "outputs": [
    {
     "name": "stdout",
     "output_type": "stream",
     "text": [
      "¡Hola! Me llamo Ana y tengo 25 años.\n",
      "¡Hola! Me llamo Juan y tengo 30 años.\n"
     ]
    }
   ],
   "source": [
    "# Ejemplo básico de una clase\n",
    "class Persona:\n",
    "    def __init__(self, nombre, edad):\n",
    "        self.nombre = nombre\n",
    "        self.edad = edad\n",
    "\n",
    "    def saludar(self):\n",
    "        return f\"¡Hola! Me llamo {self.nombre} y tengo {self.edad} años.\"\n",
    "\n",
    "# Crear instancias de la clase\n",
    "persona1 = Persona(\"Ana\", 25)\n",
    "persona2 = Persona(\"Juan\", 30)\n",
    "\n",
    "print(persona1.saludar())\n",
    "print(persona2.saludar())"
   ]
  },
  {
   "cell_type": "markdown",
   "id": "628b2747",
   "metadata": {
    "id": "628b2747"
   },
   "source": [
    "El decorador `@property` en Python permite definir métodos en una clase que pueden ser accedidos como si fueran atributos, sin necesidad de usar paréntesis. Esto facilita el acceso controlado a valores internos (generalmente atributos privados), permitiendo encapsular la lógica de obtención o cálculo de un valor, y manteniendo una sintaxis sencilla para el usuario de la clase.\n",
    "\n",
    "Por ejemplo, en la clase `CuentaBancaria`, el método `saldo` está decorado con `@property`, lo que permite acceder al saldo de la cuenta como si fuera un atributo (`cuenta.saldo`), aunque internamente sea una función. Esto ayuda a proteger los datos y a mantener una interfaz clara y segura para el acceso a los atributos del objeto.\n",
    "\n",
    "**Ventajas de usar `@property`:**\n",
    "- Permite controlar la lectura (y escritura, si se define un setter) de atributos.\n",
    "- Facilita la validación o el cálculo dinámico de valores.\n",
    "- Mejora la encapsulación y el mantenimiento del código.\n",
    "- No cambia la forma en que se accede al atributo desde fuera de la clase."
   ]
  },
  {
   "cell_type": "code",
   "execution_count": null,
   "id": "16c8e076",
   "metadata": {
    "id": "16c8e076",
    "outputId": "cb612914-641e-490d-c8a3-2b4adc28712a"
   },
   "outputs": [
    {
     "name": "stdout",
     "output_type": "stream",
     "text": [
      "Saldo inicial: 1000€\n",
      "Depósito de 500€ realizado. Nuevo saldo: 1500€\n",
      "Retiro de 200€ realizado. Nuevo saldo: 1300€\n",
      "Saldo final: 1300€\n"
     ]
    }
   ],
   "source": [
    "# Ejemplo de clase con atributos privados y propiedades\n",
    "class CuentaBancaria:\n",
    "    def __init__(self, titular, saldo_inicial=0):\n",
    "        self.__titular = titular      # Atributo privado\n",
    "        self.__saldo = saldo_inicial  # Atributo privado\n",
    "\n",
    "    @property\n",
    "    def saldo(self):\n",
    "        return self.__saldo\n",
    "\n",
    "    def depositar(self, cantidad):\n",
    "        if cantidad > 0:\n",
    "            self.__saldo += cantidad\n",
    "            return f\"Depósito de {cantidad}€ realizado. Nuevo saldo: {self.__saldo}€\"\n",
    "        return \"La cantidad debe ser positiva\"\n",
    "\n",
    "    def retirar(self, cantidad):\n",
    "        if cantidad > 0 and cantidad <= self.__saldo:\n",
    "            self.__saldo -= cantidad\n",
    "            return f\"Retiro de {cantidad}€ realizado. Nuevo saldo: {self.__saldo}€\"\n",
    "        return \"Fondos insuficientes o cantidad inválida\"\n",
    "\n",
    "# Usar la clase CuentaBancaria\n",
    "cuenta = CuentaBancaria(\"María\", 1000)\n",
    "print(f\"Saldo inicial: {cuenta.saldo}€\")\n",
    "print(cuenta.depositar(500))\n",
    "print(cuenta.retirar(200))\n",
    "print(f\"Saldo final: {cuenta.saldo}€\")"
   ]
  },
  {
   "cell_type": "markdown",
   "id": "7647fae1",
   "metadata": {
    "id": "7647fae1"
   },
   "source": [
    "Podemos heredar aspectos de otros lenguajes de cara a implementar estructuras y herencias complejas."
   ]
  },
  {
   "cell_type": "code",
   "execution_count": null,
   "id": "7f2da9ff",
   "metadata": {
    "id": "7f2da9ff"
   },
   "outputs": [],
   "source": [
    "# Ejemplo de herencia y polimorfismo\n",
    "class Animal:\n",
    "    def __init__(self, nombre):\n",
    "        self.nombre = nombre\n",
    "\n",
    "    def hacer_sonido(self):\n",
    "        return \"Algún sonido\"\n",
    "\n",
    "    def presentarse(self):\n",
    "        return f\"Soy {self.nombre} y hago: {self.hacer_sonido()}\"\n",
    "\n",
    "class Perro(Animal):\n",
    "    def __init__(self, nombre, raza):\n",
    "        self.raza = raza\n",
    "        super().__init__(nombre)\n",
    "\n",
    "    def hacer_sonido(self):\n",
    "        return \"¡Guau!\"\n",
    "\n",
    "    def jugar(self):\n",
    "        return f\"{self.nombre} está jugando con una pelota\"\n",
    "\n",
    "class Gato(Animal):\n",
    "    def hacer_sonido(self):\n",
    "        return \"¡Miau!\"\n",
    "\n",
    "    def dormir(self):\n",
    "        return f\"{self.nombre} está durmiendo la siesta\"\n",
    "\n",
    "# Crear instancias de diferentes animales\n",
    "perro = Perro(\"Max\")\n",
    "gato = Gato(\"Luna\")"
   ]
  },
  {
   "cell_type": "code",
   "execution_count": null,
   "id": "b113259b",
   "metadata": {
    "id": "b113259b",
    "outputId": "c5dbbed1-d2f0-4aee-a641-b9df681e4a1f"
   },
   "outputs": [
    {
     "name": "stdout",
     "output_type": "stream",
     "text": [
      "Soy Max y hago: ¡Guau!\n",
      "Soy Luna y hago: ¡Miau!\n"
     ]
    }
   ],
   "source": [
    "# Demostrar polimorfismo\n",
    "print(perro.presentarse())\n",
    "print(gato.presentarse())"
   ]
  },
  {
   "cell_type": "code",
   "execution_count": null,
   "id": "962423a4",
   "metadata": {
    "id": "962423a4",
    "outputId": "b7e16363-2a3c-4c9e-8ce1-afe5cb699c09"
   },
   "outputs": [
    {
     "name": "stdout",
     "output_type": "stream",
     "text": [
      "Max está jugando con una pelota\n",
      "Luna está durmiendo la siesta\n"
     ]
    }
   ],
   "source": [
    "# Usar métodos específicos de cada clase\n",
    "print(perro.jugar())\n",
    "print(gato.dormir())"
   ]
  },
  {
   "cell_type": "code",
   "execution_count": null,
   "id": "5d9250bb",
   "metadata": {
    "id": "5d9250bb",
    "outputId": "5db2aee3-aea8-4147-f3e5-8d0a86f720c0"
   },
   "outputs": [
    {
     "name": "stdout",
     "output_type": "stream",
     "text": [
      "\n",
      "Verificación de tipos:\n",
      "¿perro es un Animal? True\n",
      "¿perro es un Perro? True\n",
      "¿perro es un Gato? False\n",
      "Tipo de perro: Perro\n"
     ]
    }
   ],
   "source": [
    "# Demostrar isinstance y type\n",
    "print(f\"\\nVerificación de tipos:\")\n",
    "print(f\"¿perro es un Animal? {isinstance(perro, Animal)}\")\n",
    "print(f\"¿perro es un Perro? {isinstance(perro, Perro)}\")\n",
    "print(f\"¿perro es un Gato? {isinstance(perro, Gato)}\")\n",
    "print(f\"Tipo de perro: {type(perro).__name__}\")"
   ]
  }
 ],
 "metadata": {
  "colab": {
   "provenance": []
  },
  "kernelspec": {
   "display_name": "ds4b2b",
   "language": "python",
   "name": "python3"
  },
  "language_info": {
   "codemirror_mode": {
    "name": "ipython",
    "version": 3
   },
   "file_extension": ".py",
   "mimetype": "text/x-python",
   "name": "python",
   "nbconvert_exporter": "python",
   "pygments_lexer": "ipython3",
   "version": "3.12.7"
  }
 },
 "nbformat": 4,
 "nbformat_minor": 5
}
