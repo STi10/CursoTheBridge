{
 "cells": [
  {
   "cell_type": "markdown",
   "id": "aadff31a",
   "metadata": {
    "id": "aadff31a"
   },
   "source": [
    "Estructuras de Datos en Python\n",
    "\n",
    "Python ofrece varias estructuras de datos incorporadas que son fundamentales para la programación. Las tres principales son:\n",
    "\n",
    "## 1 Listas\n",
    "- Colección ordenada y mutable de elementos\n",
    "- Se definen con corchetes `[]`\n",
    "- Pueden contener elementos de diferentes tipos\n",
    "- Permiten duplicados\n",
    "- Son indexables (acceso por posición)\n",
    "\n",
    "## 2 Tuplas\n",
    "- Colección ordenada e inmutable de elementos\n",
    "- Se definen con paréntesis `()`\n",
    "- Más eficientes que las listas en memoria\n",
    "- Útiles para datos que no deben cambiar\n",
    "\n",
    "# #3 Diccionarios\n",
    "- Colección de pares clave-valor\n",
    "- Se definen con llaves `{}`\n",
    "- Las claves deben ser únicas\n",
    "- Muy eficientes para búsquedas\n",
    "- No mantienen un orden (hasta Python 3.7)\n",
    "\n",
    "Veamos ejemplos detallados de cada uno:"
   ]
  },
  {
   "cell_type": "code",
   "execution_count": 378,
   "id": "5a00b908",
   "metadata": {
    "id": "5a00b908"
   },
   "outputs": [],
   "source": [
    "# Crear listas\n",
    "numeros = [1, 2, 3, 4, 5]\n",
    "mixta = [1, \"hola\", 3.14, True]"
   ]
  },
  {
   "cell_type": "markdown",
   "id": "e892935e",
   "metadata": {
    "id": "e892935e"
   },
   "source": [
    "Podemos acceder al elemento enésimo, indicando el número de su posición (iniciado por 0) o bien desde atrás empleando el signo negativo."
   ]
  },
  {
   "cell_type": "code",
   "execution_count": 379,
   "id": "1a6843e6",
   "metadata": {
    "id": "1a6843e6",
    "outputId": "e759c476-cf4d-4389-9bd3-3fdc961fa2cf"
   },
   "outputs": [
    {
     "name": "stdout",
     "output_type": "stream",
     "text": [
      "Primer elemento: 1\n",
      "Último elemento: 5\n"
     ]
    }
   ],
   "source": [
    "# Acceder a elementos\n",
    "print(\"Primer elemento:\", numeros[0])\n",
    "print(\"Último elemento:\", numeros[-1])"
   ]
  },
  {
   "cell_type": "markdown",
   "id": "ba76e822",
   "metadata": {
    "id": "ba76e822"
   },
   "source": [
    "Las listas pueden rebanarse por los índices marcados."
   ]
  },
  {
   "cell_type": "code",
   "execution_count": 380,
   "id": "5cd4e0d6",
   "metadata": {
    "id": "5cd4e0d6",
    "outputId": "ef53bcb4-644f-4c5c-ff6b-44100188444b"
   },
   "outputs": [
    {
     "name": "stdout",
     "output_type": "stream",
     "text": [
      "Primeros tres elementos: [1, 2, 3]\n",
      "Elementos del 2 al 4: [2, 3, 4]\n"
     ]
    }
   ],
   "source": [
    "# Slicing (rebanadas)\n",
    "print(\"Primeros tres elementos:\", numeros[:3])\n",
    "print(\"Elementos del 2 al 4:\", numeros[1:4])"
   ]
  },
  {
   "cell_type": "markdown",
   "id": "da7dea68",
   "metadata": {
    "id": "da7dea68"
   },
   "source": [
    "Y también podremos operar con funciones del propio atributo, ya que la lista es una clase, con sus funciones, que hemos instanciado con valores concretos."
   ]
  },
  {
   "cell_type": "code",
   "execution_count": 381,
   "id": "ec641549",
   "metadata": {
    "id": "ec641549",
    "outputId": "ce28dc4b-8336-450f-acc9-4ca310761730"
   },
   "outputs": [
    {
     "data": {
      "text/plain": [
       "list"
      ]
     },
     "execution_count": 381,
     "metadata": {},
     "output_type": "execute_result"
    }
   ],
   "source": [
    "type(numeros)"
   ]
  },
  {
   "cell_type": "code",
   "execution_count": 382,
   "id": "d9f4a1f0",
   "metadata": {
    "id": "d9f4a1f0",
    "outputId": "f93dbae4-bb96-4dd8-8601-b010ca2d231a"
   },
   "outputs": [
    {
     "name": "stdout",
     "output_type": "stream",
     "text": [
      "Help on list object:\n",
      "\n",
      "class list(object)\n",
      " |  list(iterable=(), /)\n",
      " |\n",
      " |  Built-in mutable sequence.\n",
      " |\n",
      " |  If no argument is given, the constructor creates a new empty list.\n",
      " |  The argument must be an iterable if specified.\n",
      " |\n",
      " |  Methods defined here:\n",
      " |\n",
      " |  __add__(self, value, /)\n",
      " |      Return self+value.\n",
      " |\n",
      " |  __contains__(self, key, /)\n",
      " |      Return bool(key in self).\n",
      " |\n",
      " |  __delitem__(self, key, /)\n",
      " |      Delete self[key].\n",
      " |\n",
      " |  __eq__(self, value, /)\n",
      " |      Return self==value.\n",
      " |\n",
      " |  __ge__(self, value, /)\n",
      " |      Return self>=value.\n",
      " |\n",
      " |  __getattribute__(self, name, /)\n",
      " |      Return getattr(self, name).\n",
      " |\n",
      " |  __getitem__(self, index, /)\n",
      " |      Return self[index].\n",
      " |\n",
      " |  __gt__(self, value, /)\n",
      " |      Return self>value.\n",
      " |\n",
      " |  __iadd__(self, value, /)\n",
      " |      Implement self+=value.\n",
      " |\n",
      " |  __imul__(self, value, /)\n",
      " |      Implement self*=value.\n",
      " |\n",
      " |  __init__(self, /, *args, **kwargs)\n",
      " |      Initialize self.  See help(type(self)) for accurate signature.\n",
      " |\n",
      " |  __iter__(self, /)\n",
      " |      Implement iter(self).\n",
      " |\n",
      " |  __le__(self, value, /)\n",
      " |      Return self<=value.\n",
      " |\n",
      " |  __len__(self, /)\n",
      " |      Return len(self).\n",
      " |\n",
      " |  __lt__(self, value, /)\n",
      " |      Return self<value.\n",
      " |\n",
      " |  __mul__(self, value, /)\n",
      " |      Return self*value.\n",
      " |\n",
      " |  __ne__(self, value, /)\n",
      " |      Return self!=value.\n",
      " |\n",
      " |  __repr__(self, /)\n",
      " |      Return repr(self).\n",
      " |\n",
      " |  __reversed__(self, /)\n",
      " |      Return a reverse iterator over the list.\n",
      " |\n",
      " |  __rmul__(self, value, /)\n",
      " |      Return value*self.\n",
      " |\n",
      " |  __setitem__(self, key, value, /)\n",
      " |      Set self[key] to value.\n",
      " |\n",
      " |  __sizeof__(self, /)\n",
      " |      Return the size of the list in memory, in bytes.\n",
      " |\n",
      " |  append(self, object, /)\n",
      " |      Append object to the end of the list.\n",
      " |\n",
      " |  clear(self, /)\n",
      " |      Remove all items from list.\n",
      " |\n",
      " |  copy(self, /)\n",
      " |      Return a shallow copy of the list.\n",
      " |\n",
      " |  count(self, value, /)\n",
      " |      Return number of occurrences of value.\n",
      " |\n",
      " |  extend(self, iterable, /)\n",
      " |      Extend list by appending elements from the iterable.\n",
      " |\n",
      " |  index(self, value, start=0, stop=9223372036854775807, /)\n",
      " |      Return first index of value.\n",
      " |\n",
      " |      Raises ValueError if the value is not present.\n",
      " |\n",
      " |  insert(self, index, object, /)\n",
      " |      Insert object before index.\n",
      " |\n",
      " |  pop(self, index=-1, /)\n",
      " |      Remove and return item at index (default last).\n",
      " |\n",
      " |      Raises IndexError if list is empty or index is out of range.\n",
      " |\n",
      " |  remove(self, value, /)\n",
      " |      Remove first occurrence of value.\n",
      " |\n",
      " |      Raises ValueError if the value is not present.\n",
      " |\n",
      " |  reverse(self, /)\n",
      " |      Reverse *IN PLACE*.\n",
      " |\n",
      " |  sort(self, /, *, key=None, reverse=False)\n",
      " |      Sort the list in ascending order and return None.\n",
      " |\n",
      " |      The sort is in-place (i.e. the list itself is modified) and stable (i.e. the\n",
      " |      order of two equal elements is maintained).\n",
      " |\n",
      " |      If a key function is given, apply it once to each list item and sort them,\n",
      " |      ascending or descending, according to their function values.\n",
      " |\n",
      " |      The reverse flag can be set to sort in descending order.\n",
      " |\n",
      " |  ----------------------------------------------------------------------\n",
      " |  Class methods defined here:\n",
      " |\n",
      " |  __class_getitem__(object, /)\n",
      " |      See PEP 585\n",
      " |\n",
      " |  ----------------------------------------------------------------------\n",
      " |  Static methods defined here:\n",
      " |\n",
      " |  __new__(*args, **kwargs)\n",
      " |      Create and return a new object.  See help(type) for accurate signature.\n",
      " |\n",
      " |  ----------------------------------------------------------------------\n",
      " |  Data and other attributes defined here:\n",
      " |\n",
      " |  __hash__ = None\n",
      "\n"
     ]
    }
   ],
   "source": [
    "help(numeros)"
   ]
  },
  {
   "cell_type": "code",
   "execution_count": 383,
   "id": "bc37a20b",
   "metadata": {
    "id": "bc37a20b",
    "outputId": "ecb2ebbf-6cff-44cd-b1e9-b681f8d90d18"
   },
   "outputs": [
    {
     "name": "stdout",
     "output_type": "stream",
     "text": [
      "Después de append: [1, 2, 3, 4, 5, 6]\n",
      "Después de insert: [0, 1, 2, 3, 4, 5, 6]\n",
      "Después de remove: [0, 1, 2, 4, 5, 6]\n",
      "Elemento eliminado: 2\n",
      "Después de pop: [0, 1, 4, 5, 6]\n"
     ]
    }
   ],
   "source": [
    "# Métodos de listas\n",
    "numeros.append(6)        # Añadir al final\n",
    "print(\"Después de append:\", numeros)\n",
    "\n",
    "numeros.insert(0, 0)    # Insertar en posición específica\n",
    "print(\"Después de insert:\", numeros)\n",
    "\n",
    "numeros.remove(3)       # Eliminar por valor\n",
    "print(\"Después de remove:\", numeros)\n",
    "\n",
    "elemento = numeros.pop(2) # Eliminar y retornar último elemento\n",
    "print(\"Elemento eliminado:\", elemento)\n",
    "print(\"Después de pop:\", numeros)"
   ]
  },
  {
   "cell_type": "markdown",
   "id": "39249411",
   "metadata": {
    "id": "39249411"
   },
   "source": [
    "Los operadores, como el caso de la suma, pueden tener un funcionamiento distinto dependiendo del tipo de clase empleada."
   ]
  },
  {
   "cell_type": "code",
   "execution_count": 384,
   "id": "564c13bf",
   "metadata": {
    "id": "564c13bf",
    "outputId": "9be26c4e-7b88-4fce-bbef-c50f99a2ced0"
   },
   "outputs": [
    {
     "name": "stdout",
     "output_type": "stream",
     "text": [
      "Listas concatenadas: [1, 2, 3, 4, 5, 6]\n"
     ]
    }
   ],
   "source": [
    "# Operaciones con listas\n",
    "lista1 = [1, 2, 3]\n",
    "lista2 = [4, 5, 6]\n",
    "concatenada = lista1 + lista2\n",
    "print(\"Listas concatenadas:\", concatenada)"
   ]
  },
  {
   "cell_type": "markdown",
   "id": "64713946",
   "metadata": {
    "id": "64713946"
   },
   "source": [
    "Python dispone una forma reducida de iterar propio del mismo lenguaje. Indicamos el objeto dependiendo de sus caracteres de inicio y fin ( `()` para tuple, `[]` para lista y `{}` para diccionario) y dentro definimos el bucle."
   ]
  },
  {
   "cell_type": "code",
   "execution_count": 385,
   "id": "e8cf0204",
   "metadata": {
    "id": "e8cf0204",
    "outputId": "a3c79b98-5057-456f-f9a8-24b681232aff"
   },
   "outputs": [
    {
     "name": "stdout",
     "output_type": "stream",
     "text": [
      "Cuadrados usando list comprehension: [0, 1, 4, 9, 16]\n"
     ]
    }
   ],
   "source": [
    "# List comprehension\n",
    "cuadrados = [x**2 for x in range(5)]\n",
    "print(\"Cuadrados usando list comprehension:\", cuadrados)"
   ]
  },
  {
   "cell_type": "markdown",
   "id": "cd02c482",
   "metadata": {
    "id": "cd02c482"
   },
   "source": [
    "Algo similar sucede con las tuplas."
   ]
  },
  {
   "cell_type": "code",
   "execution_count": 386,
   "id": "a8f43311",
   "metadata": {
    "id": "a8f43311"
   },
   "outputs": [],
   "source": [
    "# Crear tuplas\n",
    "coordenadas = (40.4168, -3.7038)\n",
    "persona = (\"Juan\", 25, \"Madrid\")\n",
    "tupla_simple = (1,)  # Tupla de un elemento (necesita la coma)"
   ]
  },
  {
   "cell_type": "code",
   "execution_count": 387,
   "id": "2056e338",
   "metadata": {
    "id": "2056e338",
    "outputId": "214a1fde-d3d9-4e6c-a622-717fe1b6623d"
   },
   "outputs": [
    {
     "name": "stdout",
     "output_type": "stream",
     "text": [
      "Latitud: 40.4168\n",
      "Longitud: -3.7038\n"
     ]
    }
   ],
   "source": [
    "# Acceder a elementos\n",
    "print(\"Latitud:\", coordenadas[0])\n",
    "print(\"Longitud:\", coordenadas[1])"
   ]
  },
  {
   "cell_type": "code",
   "execution_count": 388,
   "id": "9d7e7f51",
   "metadata": {
    "id": "9d7e7f51",
    "outputId": "f090bb95-c510-4523-ae22-32429deb605f"
   },
   "outputs": [
    {
     "name": "stdout",
     "output_type": "stream",
     "text": [
      "Nombre: Juan, Edad: 25, Ciudad: Madrid\n"
     ]
    }
   ],
   "source": [
    "# Desempaquetado de tuplas\n",
    "nombre, edad, ciudad = persona\n",
    "print(f\"Nombre: {nombre}, Edad: {edad}, Ciudad: {ciudad}\")"
   ]
  },
  {
   "cell_type": "code",
   "execution_count": 389,
   "id": "2a9f9794",
   "metadata": {
    "id": "2a9f9794",
    "outputId": "adf92729-ceeb-44b7-9cfe-c4077244cd3e"
   },
   "outputs": [
    {
     "name": "stdout",
     "output_type": "stream",
     "text": [
      "Cantidad de 2s: 3\n",
      "Posición del primer 3: 3\n"
     ]
    }
   ],
   "source": [
    "# Métodos de tuplas\n",
    "numeros_tupla = (1, 2, 2, 3, 4, 2)\n",
    "print(\"Cantidad de 2s:\", numeros_tupla.count(2))\n",
    "print(\"Posición del primer 3:\", numeros_tupla.index(3))"
   ]
  },
  {
   "cell_type": "code",
   "execution_count": 390,
   "id": "964c0e2f",
   "metadata": {
    "id": "964c0e2f",
    "outputId": "a19ddad3-e73f-4b64-9945-40d56f116360"
   },
   "outputs": [
    {
     "name": "stdout",
     "output_type": "stream",
     "text": [
      "Resolución: 1920x1080\n"
     ]
    }
   ],
   "source": [
    "# Tuplas como retorno múltiple de funciones\n",
    "def obtener_dimensiones():\n",
    "    return (1920, 1080)\n",
    "\n",
    "ancho, alto = obtener_dimensiones()\n",
    "print(f\"Resolución: {ancho}x{alto}\")"
   ]
  },
  {
   "cell_type": "markdown",
   "id": "950d2600",
   "metadata": {
    "id": "950d2600"
   },
   "source": [
    "En algunos casos necesitaremos cambiar el tipo para poder alterar los valores (no recomendable pero necesario en ocasiones)."
   ]
  },
  {
   "cell_type": "code",
   "execution_count": 391,
   "id": "943d5dfe",
   "metadata": {
    "id": "943d5dfe",
    "outputId": "50b61e15-6629-4ddc-d7a3-19968ce7ece4"
   },
   "outputs": [
    {
     "name": "stdout",
     "output_type": "stream",
     "text": [
      "Lista desde tupla: [40.4168, -3.7038]\n",
      "Tupla desde lista: (40.4168, -3.7038)\n"
     ]
    }
   ],
   "source": [
    "# Conversión entre listas y tuplas\n",
    "lista = list(coordenadas)\n",
    "tupla = tuple(lista)\n",
    "print(\"Lista desde tupla:\", lista)\n",
    "print(\"Tupla desde lista:\", tupla)"
   ]
  },
  {
   "cell_type": "code",
   "execution_count": 392,
   "id": "cc88f914",
   "metadata": {
    "id": "cc88f914",
    "outputId": "e177bb5d-678b-464a-f361-7ed5fe867ad9"
   },
   "outputs": [
    {
     "name": "stdout",
     "output_type": "stream",
     "text": [
      "Primer punto: (0, 0)\n",
      "Coordenada y del segundo punto: 1\n"
     ]
    }
   ],
   "source": [
    "# Tuplas anidadas\n",
    "punto3d = ((0, 0), (1, 1), (2, 2))\n",
    "print(\"Primer punto:\", punto3d[0])\n",
    "print(\"Coordenada y del segundo punto:\", punto3d[1][1])"
   ]
  },
  {
   "cell_type": "markdown",
   "id": "53bc6804",
   "metadata": {
    "id": "53bc6804"
   },
   "source": [
    "Y por último disponemos de diccionarios que son una clase muy empleada por permitirnos referenciar valores empleando texto (claves) en lugar de índices numéricos."
   ]
  },
  {
   "cell_type": "code",
   "execution_count": 393,
   "id": "63d282b1",
   "metadata": {
    "id": "63d282b1",
    "outputId": "e903e7cb-08f2-475d-9edd-9c0b872cd633"
   },
   "outputs": [
    {
     "name": "stdout",
     "output_type": "stream",
     "text": [
      "Nombre: Ana\n",
      "Edad: 25\n",
      "Ocupación: No especificada\n"
     ]
    }
   ],
   "source": [
    "# Crear diccionarios\n",
    "persona = {\n",
    "    \"nombre\": \"Ana\",\n",
    "    \"edad\": 25,\n",
    "    \"ciudad\": \"Madrid\",\n",
    "    \"hobbies\": [\"lectura\", \"música\", \"viajes\"]\n",
    "}\n",
    "\n",
    "# Acceder a valores\n",
    "print(\"Nombre:\", persona[\"nombre\"])\n",
    "print(\"Edad:\", persona.get(\"edad\"))  # Método más seguro\n",
    "print(\"Ocupación:\", persona.get(\"ocupacion\", \"No especificada\"))  # Valor por defecto"
   ]
  },
  {
   "cell_type": "code",
   "execution_count": 394,
   "id": "647e6e8a",
   "metadata": {
    "id": "647e6e8a",
    "outputId": "04f22a12-57ce-41b2-b700-b8b44a77560c"
   },
   "outputs": [
    {
     "name": "stdout",
     "output_type": "stream",
     "text": [
      "Diccionario actualizado: {'nombre': 'Ana', 'edad': 26, 'ciudad': 'Madrid', 'hobbies': ['lectura', 'música', 'viajes'], 'ocupacion': 'Programadora'}\n"
     ]
    }
   ],
   "source": [
    "# Modificar y añadir elementos\n",
    "persona[\"edad\"] = 26\n",
    "persona[\"ocupacion\"] = \"Programadora\"\n",
    "print(\"Diccionario actualizado:\", persona)"
   ]
  },
  {
   "cell_type": "code",
   "execution_count": 395,
   "id": "35b436d6",
   "metadata": {
    "id": "35b436d6",
    "outputId": "93e9bf61-879f-4151-b954-1fe79d8fb0fc"
   },
   "outputs": [
    {
     "ename": "AttributeError",
     "evalue": "'str' object has no attribute 'append'",
     "output_type": "error",
     "traceback": [
      "\u001b[31m---------------------------------------------------------------------------\u001b[39m",
      "\u001b[31mAttributeError\u001b[39m                            Traceback (most recent call last)",
      "\u001b[36mCell\u001b[39m\u001b[36m \u001b[39m\u001b[32mIn[395]\u001b[39m\u001b[32m, line 6\u001b[39m\n\u001b[32m      4\u001b[39m persona.update({\u001b[33m\"\u001b[39m\u001b[33mpais\u001b[39m\u001b[33m\"\u001b[39m: \u001b[33m\"\u001b[39m\u001b[33mEspaña\u001b[39m\u001b[33m\"\u001b[39m})  \u001b[38;5;66;03m# Añadir nuevo par clave-valor\u001b[39;00m\n\u001b[32m      5\u001b[39m \u001b[38;5;66;03m# Modificar valor existente\u001b[39;00m\n\u001b[32m----> \u001b[39m\u001b[32m6\u001b[39m \u001b[43mpersona\u001b[49m\u001b[43m[\u001b[49m\u001b[33;43m\"\u001b[39;49m\u001b[33;43mnombre\u001b[39;49m\u001b[33;43m\"\u001b[39;49m\u001b[43m]\u001b[49m\u001b[43m.\u001b[49m\u001b[43mappend\u001b[49m(\u001b[33m\"\u001b[39m\u001b[33ma\u001b[39m\u001b[33m\"\u001b[39m)\n\u001b[32m      8\u001b[39m \u001b[38;5;28mprint\u001b[39m(\u001b[33m\"\u001b[39m\u001b[33mOcupación eliminada:\u001b[39m\u001b[33m\"\u001b[39m, ocupacion)\n\u001b[32m      9\u001b[39m \u001b[38;5;28mprint\u001b[39m(\u001b[33m\"\u001b[39m\u001b[33mDiccionario después de eliminar:\u001b[39m\u001b[33m\"\u001b[39m, persona)\n",
      "\u001b[31mAttributeError\u001b[39m: 'str' object has no attribute 'append'"
     ]
    }
   ],
   "source": [
    "# Eliminar elementos\n",
    "del persona[\"hobbies\"]\n",
    "ocupacion = persona.pop(\"ocupacion\")\n",
    "persona.update({\"pais\": \"España\"})  # Añadir nuevo par clave-valor\n",
    "# Modificar valor existente\n",
    "persona[\"nombre\"].append(\"a\")\n",
    "\n",
    "print(\"Ocupación eliminada:\", ocupacion)\n",
    "print(\"Diccionario después de eliminar:\", persona)"
   ]
  },
  {
   "cell_type": "markdown",
   "id": "01d610fd",
   "metadata": {
    "id": "01d610fd"
   },
   "source": [
    "Los iteradores en estos casos requieren indicar si lo haremos sobre claves, valores o tuplas de ambos."
   ]
  },
  {
   "cell_type": "code",
   "execution_count": null,
   "id": "66f646eb",
   "metadata": {
    "id": "66f646eb",
    "outputId": "15fc13b3-ed72-4363-d034-42178fa8cc26"
   },
   "outputs": [
    {
     "name": "stdout",
     "output_type": "stream",
     "text": [
      "Claves: ['nombre', 'edad', 'ciudad', 'pais']\n",
      "Valores: [['Paco', 'Ana'], 26, 'Madrid', 'España']\n",
      "Items: [('nombre', ['Paco', 'Ana']), ('edad', 26), ('ciudad', 'Madrid'), ('pais', 'España')]\n"
     ]
    }
   ],
   "source": [
    "# Métodos útiles de diccionarios\n",
    "print(\"Claves:\", list(persona.keys()))\n",
    "print(\"Valores:\", list(persona.values()))\n",
    "print(\"Items:\", list(persona.items()))"
   ]
  },
  {
   "cell_type": "code",
   "execution_count": null,
   "id": "66eb774a",
   "metadata": {
    "id": "66eb774a",
    "outputId": "223e4caf-3ccb-4514-cbc7-dda289167d6b"
   },
   "outputs": [
    {
     "name": "stdout",
     "output_type": "stream",
     "text": [
      "\n",
      "Iterando sobre el diccionario:\n",
      "nombre: ['Paco', 'Ana']\n",
      "edad: 26\n",
      "ciudad: Madrid\n",
      "pais: España\n"
     ]
    }
   ],
   "source": [
    "# Iterar sobre diccionarios\n",
    "print(\"\\nIterando sobre el diccionario:\")\n",
    "for clave, valor in persona.items():\n",
    "    print(f\"{clave}: {valor}\")"
   ]
  },
  {
   "cell_type": "markdown",
   "id": "59a3b639",
   "metadata": {
    "id": "59a3b639"
   },
   "source": [
    "Son una de las estructuras más flexibles y expresivas y por eso se emplean tanto."
   ]
  },
  {
   "cell_type": "code",
   "execution_count": 396,
   "id": "0440e5fe",
   "metadata": {
    "id": "0440e5fe",
    "outputId": "0c5d8acd-81c8-4c5c-f02b-e1d587f870fb"
   },
   "outputs": [
    {
     "name": "stdout",
     "output_type": "stream",
     "text": [
      "\n",
      "Renta de 2B: 950\n",
      "\n",
      "Diccionario de cuadrados: {0: 0, 1: 1, 2: 4, 3: 9, 4: 16}\n"
     ]
    }
   ],
   "source": [
    "# Diccionarios anidados\n",
    "edificio = {\n",
    "    \"piso_1\": {\n",
    "        \"apartamento_1A\": {\"inquilino\": \"Juan\", \"renta\": 800},\n",
    "        \"apartamento_1B\": {\"inquilino\": \"María\", \"renta\": 850}\n",
    "    },\n",
    "    \"piso_2\": {\n",
    "        \"apartamento_2A\": {\"inquilino\": \"Pedro\", \"renta\": 900},\n",
    "        \"apartamento_2B\": {\"inquilino\": \"Ana\", \"renta\": 950}\n",
    "    }\n",
    "}\n",
    "\n",
    "# Acceder a datos anidados\n",
    "a = list(edificio.keys())\n",
    "print(\"\\nRenta de 2B:\", edificio.get(a[1]).get(\"apartamento_2B\").get(\"renta\"))\n",
    "\n",
    "# Dictionary comprehension\n",
    "cuadrados = {x: x**2 for x in range(5)}\n",
    "print(\"\\nDiccionario de cuadrados:\", cuadrados)"
   ]
  },
  {
   "cell_type": "markdown",
   "id": "wlFPGPGAHQC0",
   "metadata": {
    "id": "wlFPGPGAHQC0"
   },
   "source": []
  }
 ],
 "metadata": {
  "colab": {
   "provenance": []
  },
  "kernelspec": {
   "display_name": "Python 3",
   "language": "python",
   "name": "python3"
  },
  "language_info": {
   "codemirror_mode": {
    "name": "ipython",
    "version": 3
   },
   "file_extension": ".py",
   "mimetype": "text/x-python",
   "name": "python",
   "nbconvert_exporter": "python",
   "pygments_lexer": "ipython3",
   "version": "3.13.7"
  }
 },
 "nbformat": 4,
 "nbformat_minor": 5
}
